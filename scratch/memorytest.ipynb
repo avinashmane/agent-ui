{
 "cells": [
  {
   "cell_type": "code",
   "execution_count": 5,
   "id": "1395a1dd",
   "metadata": {},
   "outputs": [],
   "source": [
    "from agno.agent import Agent\n",
    "from agno.models.google import Gemini\n",
    "from agno.db.postgres import PostgresDb\n",
    "from rich.pretty import pprint\n",
    "from dotenv import load_dotenv\n",
    "import os\n",
    "load_dotenv()\n",
    "# UserId for the memories\n",
    "user_id = \"ava\"\n",
    "\n",
    "db_url = \"postgresql+psycopg://ai:ai@localhost:5532/ai\"\n",
    "\n",
    "db = PostgresDb(\n",
    "  db_url=db_url,\n",
    "  memory_table=\"user_memories\",  # Optionally specify a table name for the memories\n",
    ")\n",
    "\n"
   ]
  },
  {
   "cell_type": "code",
   "execution_count": 7,
   "id": "56641a89",
   "metadata": {},
   "outputs": [],
   "source": [
    "\n",
    "# Initialize Agent\n",
    "memory_agent = Agent(\n",
    "    model=Gemini(id=os.environ.get(\"MODEL\", \"gemini-2.0-flash-001\")),\n",
    "    db=db,\n",
    "    # Give the Agent the ability to update memories\n",
    "    enable_agentic_memory=True,\n",
    "    # OR - Run the MemoryManager automatically after each response\n",
    "    enable_user_memories=True,\n",
    "    markdown=True,\n",
    ")\n",
    "\n",
    "db.clear_memories()\n"
   ]
  },
  {
   "cell_type": "code",
   "execution_count": null,
   "id": "21bf1870",
   "metadata": {},
   "outputs": [
    {
     "data": {
      "application/vnd.jupyter.widget-view+json": {
       "model_id": "fb5bd0633292437590824a2c39bf2a3b",
       "version_major": 2,
       "version_minor": 0
      },
      "text/plain": [
       "Output()"
      ]
     },
     "metadata": {},
     "output_type": "display_data"
    }
   ],
   "source": [
    "\n",
    "memory_agent.print_response(\n",
    "    \"My name is Ava and I like to ski.\",\n",
    "    user_id=user_id,\n",
    "    stream=True,\n",
    "    stream_intermediate_steps=True,\n",
    ")\n",
    "print(\"Memories about Ava:\")\n",
    "pprint(memory_agent.get_user_memories(user_id=user_id))\n",
    "\n",
    "memory_agent.print_response(\n",
    "    \"I live in san francisco, where should i move within a 4 hour drive?\",\n",
    "    user_id=user_id,\n",
    "    stream=True,\n",
    "    stream_intermediate_steps=True,\n",
    ")\n",
    "print(\"Memories about Ava:\")\n",
    "pprint(memory_agent.get_user_memories(user_id=user_id))"
   ]
  },
  {
   "cell_type": "code",
   "execution_count": null,
   "id": "8e32ec9a",
   "metadata": {},
   "outputs": [],
   "source": []
  }
 ],
 "metadata": {
  "kernelspec": {
   "display_name": "agent-ui",
   "language": "python",
   "name": "python3"
  },
  "language_info": {
   "codemirror_mode": {
    "name": "ipython",
    "version": 3
   },
   "file_extension": ".py",
   "mimetype": "text/x-python",
   "name": "python",
   "nbconvert_exporter": "python",
   "pygments_lexer": "ipython3",
   "version": "3.12.11"
  }
 },
 "nbformat": 4,
 "nbformat_minor": 5
}
