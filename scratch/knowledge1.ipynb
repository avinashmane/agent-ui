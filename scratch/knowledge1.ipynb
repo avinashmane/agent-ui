{
 "cells": [
  {
   "cell_type": "code",
   "execution_count": 1,
   "id": "84da0c83",
   "metadata": {},
   "outputs": [],
   "source": [
    "import asyncio\n",
    "\n",
    "from agno.agent import Agent\n",
    "from agno.db.postgres.postgres import PostgresDb\n",
    "from agno.knowledge.knowledge import Knowledge\n",
    "from agno.vectordb.pgvector import PgVector\n",
    "from agno.knowledge.embedder.google import GeminiEmbedder\n",
    "\n",
    "db = PostgresDb(\n",
    "    db_url=\"postgresql+psycopg://ai:ai@localhost:5532/ai\",\n",
    "    knowledge_table=\"knowledge_contents\",\n",
    ")\n"
   ]
  },
  {
   "cell_type": "code",
   "execution_count": 2,
   "id": "f3e46472",
   "metadata": {},
   "outputs": [],
   "source": [
    "\n",
    "# Create Knowledge Instance\n",
    "knowledge = Knowledge(\n",
    "    name=\"Basic SDK Knowledge Base\",\n",
    "    description=\"Agno 2.0 Knowledge Implementation\",\n",
    "    contents_db=db,\n",
    "    vector_db=PgVector(\n",
    "        table_name=\"vectors\", db_url=\"postgresql+psycopg://ai:ai@localhost:5532/ai\",\n",
    "        embedder=GeminiEmbedder(),\n",
    "    ),\n",
    ")\n"
   ]
  },
  {
   "cell_type": "code",
   "execution_count": null,
   "id": "9683464e",
   "metadata": {},
   "outputs": [],
   "source": [
    "import asyncio\n",
    "\n",
    "async def func():\n",
    "    print(\"started.\")\n",
    "    await asyncio.sleep(2)\n",
    "    print(\"done.\")\n",
    "\n",
    "await func()"
   ]
  },
  {
   "cell_type": "code",
   "execution_count": null,
   "id": "d7d14a5f",
   "metadata": {},
   "outputs": [],
   "source": [
    "# Add from URL to the knowledge base\n",
    "async def _f():\n",
    "    # asyncio.run(\n",
    "        knowledge.add_content_async(\n",
    "            name=\"Recipes\",\n",
    "            url=\"https://agno-public.s3.amazonaws.com/recipes/ThaiRecipes.pdf\",\n",
    "            metadata={\"user_tag\": \"Recipes from website\"},\n",
    "        )\n",
    "    # )\n",
    "x=_f()"
   ]
  },
  {
   "cell_type": "code",
   "execution_count": null,
   "id": "9baaf419",
   "metadata": {},
   "outputs": [],
   "source": [
    "x.cr_running"
   ]
  },
  {
   "cell_type": "code",
   "execution_count": null,
   "id": "8a49250b",
   "metadata": {},
   "outputs": [],
   "source": []
  },
  {
   "cell_type": "code",
   "execution_count": null,
   "id": "e817d010",
   "metadata": {},
   "outputs": [],
   "source": [
    "from agno.models.google import Gemini\n",
    "agent = Agent(\n",
    "    model=Gemini(\"gemini-2.5-flash\"),\n",
    "    name=\"My Agent\",\n",
    "    description=\"Agno 2.0 Agent Implementation\",\n",
    "    knowledge=knowledge,\n",
    "    search_knowledge=True,\n",
    ")\n",
    "\n",
    "agent.print_response(\n",
    "    \"How do I make chicken and galangal in coconut milk soup?\",\n",
    "    markdown=True,\n",
    "    stream=False\n",
    ")"
   ]
  },
  {
   "cell_type": "code",
   "execution_count": null,
   "id": "46fbd68c",
   "metadata": {},
   "outputs": [],
   "source": []
  }
 ],
 "metadata": {
  "kernelspec": {
   "display_name": "agent-ui",
   "language": "python",
   "name": "python3"
  },
  "language_info": {
   "codemirror_mode": {
    "name": "ipython",
    "version": 3
   },
   "file_extension": ".py",
   "mimetype": "text/x-python",
   "name": "python",
   "nbconvert_exporter": "python",
   "pygments_lexer": "ipython3",
   "version": "3.12.11"
  }
 },
 "nbformat": 4,
 "nbformat_minor": 5
}
