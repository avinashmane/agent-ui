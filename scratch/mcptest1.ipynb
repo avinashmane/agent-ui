{
 "cells": [
  {
   "cell_type": "markdown",
   "id": "50990432",
   "metadata": {},
   "source": [
    "## stdio "
   ]
  },
  {
   "cell_type": "code",
   "execution_count": 13,
   "id": "ed8d4424",
   "metadata": {},
   "outputs": [
    {
     "data": {
      "text/html": [
       "<pre style=\"white-space:pre;overflow-x:auto;line-height:normal;font-family:Menlo,'DejaVu Sans Mono',consolas,'Courier New',monospace\"><span style=\"color: #800000; text-decoration-color: #800000; font-weight: bold\">ERROR   </span> Failed to get MCP tools: Connection closed                                                                \n",
       "</pre>\n"
      ],
      "text/plain": [
       "\u001b[1;31mERROR   \u001b[0m Failed to get MCP tools: Connection closed                                                                \n"
      ]
     },
     "metadata": {},
     "output_type": "display_data"
    },
    {
     "ename": "McpError",
     "evalue": "Connection closed",
     "output_type": "error",
     "traceback": [
      "\u001b[31m---------------------------------------------------------------------------\u001b[39m",
      "\u001b[31mMcpError\u001b[39m                                  Traceback (most recent call last)",
      "\u001b[36mCell\u001b[39m\u001b[36m \u001b[39m\u001b[32mIn[13]\u001b[39m\u001b[32m, line 10\u001b[39m\n\u001b[32m      8\u001b[39m \u001b[38;5;66;03m# Initialize and connect to the MCP server\u001b[39;00m\n\u001b[32m      9\u001b[39m mcp_tools = MCPTools(command=\u001b[33m\"\u001b[39m\u001b[33muv run ../mcp_gen/server.py\u001b[39m\u001b[33m\"\u001b[39m, transport=\u001b[33m\"\u001b[39m\u001b[33mstdio\u001b[39m\u001b[33m\"\u001b[39m)\n\u001b[32m---> \u001b[39m\u001b[32m10\u001b[39m \u001b[38;5;28;01mawait\u001b[39;00m mcp_tools.connect()\n",
      "\u001b[36mFile \u001b[39m\u001b[32m~/agent-ui/.venv/lib/python3.12/site-packages/agno/tools/mcp.py:208\u001b[39m, in \u001b[36mMCPTools.connect\u001b[39m\u001b[34m(self)\u001b[39m\n\u001b[32m    205\u001b[39m \u001b[38;5;28;01mif\u001b[39;00m \u001b[38;5;28mself\u001b[39m._initialized:\n\u001b[32m    206\u001b[39m     \u001b[38;5;28;01mreturn\u001b[39;00m\n\u001b[32m--> \u001b[39m\u001b[32m208\u001b[39m \u001b[38;5;28;01mawait\u001b[39;00m \u001b[38;5;28mself\u001b[39m._connect()\n",
      "\u001b[36mFile \u001b[39m\u001b[32m~/agent-ui/.venv/lib/python3.12/site-packages/agno/tools/mcp.py:261\u001b[39m, in \u001b[36mMCPTools._connect\u001b[39m\u001b[34m(self)\u001b[39m\n\u001b[32m    258\u001b[39m \u001b[38;5;28mself\u001b[39m._active_contexts.append(\u001b[38;5;28mself\u001b[39m._session_context)\n\u001b[32m    260\u001b[39m \u001b[38;5;66;03m# Initialize with the new session\u001b[39;00m\n\u001b[32m--> \u001b[39m\u001b[32m261\u001b[39m \u001b[38;5;28;01mawait\u001b[39;00m \u001b[38;5;28mself\u001b[39m.initialize()\n",
      "\u001b[36mFile \u001b[39m\u001b[32m~/agent-ui/.venv/lib/python3.12/site-packages/agno/tools/mcp.py:303\u001b[39m, in \u001b[36mMCPTools.initialize\u001b[39m\u001b[34m(self)\u001b[39m\n\u001b[32m    300\u001b[39m     \u001b[38;5;28;01mraise\u001b[39;00m \u001b[38;5;167;01mValueError\u001b[39;00m(\u001b[33m\"\u001b[39m\u001b[33mFailed to establish session connection\u001b[39m\u001b[33m\"\u001b[39m)\n\u001b[32m    302\u001b[39m \u001b[38;5;66;03m# Initialize the session if not already initialized\u001b[39;00m\n\u001b[32m--> \u001b[39m\u001b[32m303\u001b[39m \u001b[38;5;28;01mawait\u001b[39;00m \u001b[38;5;28mself\u001b[39m.session.initialize()\n\u001b[32m    305\u001b[39m \u001b[38;5;66;03m# Get the list of tools from the MCP server\u001b[39;00m\n\u001b[32m    306\u001b[39m available_tools = \u001b[38;5;28;01mawait\u001b[39;00m \u001b[38;5;28mself\u001b[39m.session.list_tools()\n",
      "\u001b[36mFile \u001b[39m\u001b[32m~/agent-ui/.venv/lib/python3.12/site-packages/mcp/client/session.py:151\u001b[39m, in \u001b[36mClientSession.initialize\u001b[39m\u001b[34m(self)\u001b[39m\n\u001b[32m    139\u001b[39m elicitation = (\n\u001b[32m    140\u001b[39m     types.ElicitationCapability() \u001b[38;5;28;01mif\u001b[39;00m \u001b[38;5;28mself\u001b[39m._elicitation_callback \u001b[38;5;129;01mis\u001b[39;00m \u001b[38;5;129;01mnot\u001b[39;00m _default_elicitation_callback \u001b[38;5;28;01melse\u001b[39;00m \u001b[38;5;28;01mNone\u001b[39;00m\n\u001b[32m    141\u001b[39m )\n\u001b[32m    142\u001b[39m roots = (\n\u001b[32m    143\u001b[39m     \u001b[38;5;66;03m# TODO: Should this be based on whether we\u001b[39;00m\n\u001b[32m    144\u001b[39m     \u001b[38;5;66;03m# _will_ send notifications, or only whether\u001b[39;00m\n\u001b[32m   (...)\u001b[39m\u001b[32m    148\u001b[39m     \u001b[38;5;28;01melse\u001b[39;00m \u001b[38;5;28;01mNone\u001b[39;00m\n\u001b[32m    149\u001b[39m )\n\u001b[32m--> \u001b[39m\u001b[32m151\u001b[39m result = \u001b[38;5;28;01mawait\u001b[39;00m \u001b[38;5;28mself\u001b[39m.send_request(\n\u001b[32m    152\u001b[39m     types.ClientRequest(\n\u001b[32m    153\u001b[39m         types.InitializeRequest(\n\u001b[32m    154\u001b[39m             params=types.InitializeRequestParams(\n\u001b[32m    155\u001b[39m                 protocolVersion=types.LATEST_PROTOCOL_VERSION,\n\u001b[32m    156\u001b[39m                 capabilities=types.ClientCapabilities(\n\u001b[32m    157\u001b[39m                     sampling=sampling,\n\u001b[32m    158\u001b[39m                     elicitation=elicitation,\n\u001b[32m    159\u001b[39m                     experimental=\u001b[38;5;28;01mNone\u001b[39;00m,\n\u001b[32m    160\u001b[39m                     roots=roots,\n\u001b[32m    161\u001b[39m                 ),\n\u001b[32m    162\u001b[39m                 clientInfo=\u001b[38;5;28mself\u001b[39m._client_info,\n\u001b[32m    163\u001b[39m             ),\n\u001b[32m    164\u001b[39m         )\n\u001b[32m    165\u001b[39m     ),\n\u001b[32m    166\u001b[39m     types.InitializeResult,\n\u001b[32m    167\u001b[39m )\n\u001b[32m    169\u001b[39m \u001b[38;5;28;01mif\u001b[39;00m result.protocolVersion \u001b[38;5;129;01mnot\u001b[39;00m \u001b[38;5;129;01min\u001b[39;00m SUPPORTED_PROTOCOL_VERSIONS:\n\u001b[32m    170\u001b[39m     \u001b[38;5;28;01mraise\u001b[39;00m \u001b[38;5;167;01mRuntimeError\u001b[39;00m(\u001b[33mf\u001b[39m\u001b[33m\"\u001b[39m\u001b[33mUnsupported protocol version from the server: \u001b[39m\u001b[38;5;132;01m{\u001b[39;00mresult.protocolVersion\u001b[38;5;132;01m}\u001b[39;00m\u001b[33m\"\u001b[39m)\n",
      "\u001b[36mFile \u001b[39m\u001b[32m~/agent-ui/.venv/lib/python3.12/site-packages/mcp/shared/session.py:286\u001b[39m, in \u001b[36mBaseSession.send_request\u001b[39m\u001b[34m(self, request, result_type, request_read_timeout_seconds, metadata, progress_callback)\u001b[39m\n\u001b[32m    274\u001b[39m     \u001b[38;5;28;01mraise\u001b[39;00m McpError(\n\u001b[32m    275\u001b[39m         ErrorData(\n\u001b[32m    276\u001b[39m             code=httpx.codes.REQUEST_TIMEOUT,\n\u001b[32m   (...)\u001b[39m\u001b[32m    282\u001b[39m         )\n\u001b[32m    283\u001b[39m     )\n\u001b[32m    285\u001b[39m \u001b[38;5;28;01mif\u001b[39;00m \u001b[38;5;28misinstance\u001b[39m(response_or_error, JSONRPCError):\n\u001b[32m--> \u001b[39m\u001b[32m286\u001b[39m     \u001b[38;5;28;01mraise\u001b[39;00m McpError(response_or_error.error)\n\u001b[32m    287\u001b[39m \u001b[38;5;28;01melse\u001b[39;00m:\n\u001b[32m    288\u001b[39m     \u001b[38;5;28;01mreturn\u001b[39;00m result_type.model_validate(response_or_error.result)\n",
      "\u001b[31mMcpError\u001b[39m: Connection closed"
     ]
    }
   ],
   "source": [
    "from agno.agent import Agent\n",
    "from agno.models.google import Gemini\n",
    "from agno.tools.mcp import MCPTools\n",
    "from dotenv import load_dotenv\n",
    "load_dotenv()\n",
    "import os\n",
    "\n",
    "# Initialize and connect to the MCP server\n",
    "mcp_tools = MCPTools(command=\"uv run ../mcp_gen/server.py\", transport=\"stdio\")\n",
    "await mcp_tools.connect()\n"
   ]
  },
  {
   "cell_type": "code",
   "execution_count": 14,
   "id": "102160c6",
   "metadata": {},
   "outputs": [
    {
     "name": "stdout",
     "output_type": "stream",
     "text": [
      "\u001b[33mWARNING\u001b[0m:  ASGI app factory detected. Using it, but please consider setting the --factory flag explicitly.\n",
      "\u001b[32mINFO\u001b[0m:     Started server process [\u001b[36m116621\u001b[0m]\n",
      "\u001b[32mINFO\u001b[0m:     Waiting for application startup.\n",
      "\u001b[2;36m[09/19/25 13:56:08]\u001b[0m\u001b[2;36m \u001b[0m\u001b[34mINFO    \u001b[0m StreamableHTTP       \u001b]8;id=229974;file:///home/avinash/agent-ui/.venv/lib/python3.12/site-packages/mcp/server/streamable_http_manager.py\u001b\\\u001b[2mstreamable_http_manager.py\u001b[0m\u001b]8;;\u001b\\\u001b[2m:\u001b[0m\u001b]8;id=898876;file:///home/avinash/agent-ui/.venv/lib/python3.12/site-packages/mcp/server/streamable_http_manager.py#110\u001b\\\u001b[2m110\u001b[0m\u001b]8;;\u001b\\\n",
      "\u001b[2;36m                    \u001b[0m         session manager      \u001b[2m                              \u001b[0m\n",
      "\u001b[2;36m                    \u001b[0m         started              \u001b[2m                              \u001b[0m\n",
      "\u001b[32mINFO\u001b[0m:     Application startup complete.\n",
      "\u001b[31mERROR\u001b[0m:    [Errno 98] error while attempting to bind on address ('127.0.0.1', 8123): [errno 98] address already in use\n",
      "\u001b[32mINFO\u001b[0m:     Waiting for application shutdown.\n",
      "\u001b[2;36m                   \u001b[0m\u001b[2;36m \u001b[0m\u001b[34mINFO    \u001b[0m StreamableHTTP       \u001b]8;id=986146;file:///home/avinash/agent-ui/.venv/lib/python3.12/site-packages/mcp/server/streamable_http_manager.py\u001b\\\u001b[2mstreamable_http_manager.py\u001b[0m\u001b]8;;\u001b\\\u001b[2m:\u001b[0m\u001b]8;id=351555;file:///home/avinash/agent-ui/.venv/lib/python3.12/site-packages/mcp/server/streamable_http_manager.py#114\u001b\\\u001b[2m114\u001b[0m\u001b]8;;\u001b\\\n",
      "\u001b[2;36m                    \u001b[0m         session manager      \u001b[2m                              \u001b[0m\n",
      "\u001b[2;36m                    \u001b[0m         shutting down        \u001b[2m                              \u001b[0m\n",
      "\u001b[32mINFO\u001b[0m:     Application shutdown complete.\n"
     ]
    }
   ],
   "source": [
    "!uv run ../mcp_gen/server.py"
   ]
  },
  {
   "cell_type": "code",
   "execution_count": 12,
   "id": "579cb0d0",
   "metadata": {},
   "outputs": [
    {
     "data": {
      "text/plain": [
       "<MCPTools name=MCPTools functions=['git_status', 'git_diff_unstaged', 'git_diff_staged', 'git_diff', 'git_commit', 'git_add', 'git_reset', 'git_log', 'git_create_branch', 'git_checkout', 'git_show', 'git_init', 'git_branch']>"
      ]
     },
     "execution_count": 12,
     "metadata": {},
     "output_type": "execute_result"
    }
   ],
   "source": [
    "mcp_tools"
   ]
  },
  {
   "cell_type": "code",
   "execution_count": 11,
   "id": "857728a2",
   "metadata": {},
   "outputs": [
    {
     "data": {
      "application/vnd.jupyter.widget-view+json": {
       "model_id": "3ee627074d02404dbbfe8f26e3b35a12",
       "version_major": 2,
       "version_minor": 0
      },
      "text/plain": [
       "Output()"
      ]
     },
     "metadata": {},
     "output_type": "display_data"
    },
    {
     "data": {
      "text/html": [
       "<pre style=\"white-space:pre;overflow-x:auto;line-height:normal;font-family:Menlo,'DejaVu Sans Mono',consolas,'Courier New',monospace\"></pre>\n"
      ],
      "text/plain": []
     },
     "metadata": {},
     "output_type": "display_data"
    },
    {
     "ename": "AttributeError",
     "evalue": "'TaskGroup' object has no attribute '_exceptions'",
     "output_type": "error",
     "traceback": [
      "\u001b[31m---------------------------------------------------------------------------\u001b[39m",
      "\u001b[31mAttributeError\u001b[39m                            Traceback (most recent call last)",
      "\u001b[36mFile \u001b[39m\u001b[32m~/agent-ui/.venv/lib/python3.12/site-packages/anyio/_backends/_asyncio.py:767\u001b[39m, in \u001b[36mTaskGroup.__aexit__\u001b[39m\u001b[34m(***failed resolving arguments***)\u001b[39m\n\u001b[32m    766\u001b[39m \u001b[38;5;28mself\u001b[39m._active = \u001b[38;5;28;01mFalse\u001b[39;00m\n\u001b[32m--> \u001b[39m\u001b[32m767\u001b[39m \u001b[38;5;28;01mif\u001b[39;00m \u001b[38;5;28;43mself\u001b[39;49m\u001b[43m.\u001b[49m\u001b[43m_exceptions\u001b[49m:\n\u001b[32m    768\u001b[39m     \u001b[38;5;66;03m# The exception that got us here should already have been\u001b[39;00m\n\u001b[32m    769\u001b[39m     \u001b[38;5;66;03m# added to self._exceptions so it's ok to break exception\u001b[39;00m\n\u001b[32m    770\u001b[39m     \u001b[38;5;66;03m# chaining and avoid adding a \"During handling of above...\"\u001b[39;00m\n\u001b[32m    771\u001b[39m     \u001b[38;5;66;03m# for each nesting level.\u001b[39;00m\n\u001b[32m    772\u001b[39m     \u001b[38;5;28;01mraise\u001b[39;00m BaseExceptionGroup(\n\u001b[32m    773\u001b[39m         \u001b[33m\"\u001b[39m\u001b[33munhandled errors in a TaskGroup\u001b[39m\u001b[33m\"\u001b[39m, \u001b[38;5;28mself\u001b[39m._exceptions\n\u001b[32m    774\u001b[39m     ) \u001b[38;5;28;01mfrom\u001b[39;00m\u001b[38;5;250m \u001b[39m\u001b[38;5;28;01mNone\u001b[39;00m\n",
      "\u001b[31mAttributeError\u001b[39m: 'TaskGroup' object has no attribute '_exceptions'",
      "\nDuring handling of the above exception, another exception occurred:\n",
      "\u001b[31mRuntimeError\u001b[39m                              Traceback (most recent call last)",
      "\u001b[36mFile \u001b[39m\u001b[32m~/agent-ui/.venv/lib/python3.12/site-packages/anyio/_backends/_asyncio.py:778\u001b[39m, in \u001b[36mTaskGroup.__aexit__\u001b[39m\u001b[34m(***failed resolving arguments***)\u001b[39m\n\u001b[32m    777\u001b[39m \u001b[38;5;28;01mexcept\u001b[39;00m \u001b[38;5;167;01mBaseException\u001b[39;00m \u001b[38;5;28;01mas\u001b[39;00m exc:\n\u001b[32m--> \u001b[39m\u001b[32m778\u001b[39m     \u001b[38;5;28;01mif\u001b[39;00m \u001b[38;5;28;43mself\u001b[39;49m\u001b[43m.\u001b[49m\u001b[43mcancel_scope\u001b[49m\u001b[43m.\u001b[49m\u001b[34;43m__exit__\u001b[39;49m\u001b[43m(\u001b[49m\u001b[38;5;28;43mtype\u001b[39;49m\u001b[43m(\u001b[49m\u001b[43mexc\u001b[49m\u001b[43m)\u001b[49m\u001b[43m,\u001b[49m\u001b[43m \u001b[49m\u001b[43mexc\u001b[49m\u001b[43m,\u001b[49m\u001b[43m \u001b[49m\u001b[43mexc\u001b[49m\u001b[43m.\u001b[49m\u001b[43m__traceback__\u001b[49m\u001b[43m)\u001b[49m:\n\u001b[32m    779\u001b[39m         \u001b[38;5;28;01mreturn\u001b[39;00m \u001b[38;5;28;01mTrue\u001b[39;00m\n",
      "\u001b[36mFile \u001b[39m\u001b[32m~/agent-ui/.venv/lib/python3.12/site-packages/anyio/_backends/_asyncio.py:457\u001b[39m, in \u001b[36mCancelScope.__exit__\u001b[39m\u001b[34m(***failed resolving arguments***)\u001b[39m\n\u001b[32m    456\u001b[39m \u001b[38;5;28;01mif\u001b[39;00m current_task() \u001b[38;5;129;01mis\u001b[39;00m \u001b[38;5;129;01mnot\u001b[39;00m \u001b[38;5;28mself\u001b[39m._host_task:\n\u001b[32m--> \u001b[39m\u001b[32m457\u001b[39m     \u001b[38;5;28;01mraise\u001b[39;00m \u001b[38;5;167;01mRuntimeError\u001b[39;00m(\n\u001b[32m    458\u001b[39m         \u001b[33m\"\u001b[39m\u001b[33mAttempted to exit cancel scope in a different task than it was \u001b[39m\u001b[33m\"\u001b[39m\n\u001b[32m    459\u001b[39m         \u001b[33m\"\u001b[39m\u001b[33mentered in\u001b[39m\u001b[33m\"\u001b[39m\n\u001b[32m    460\u001b[39m     )\n\u001b[32m    462\u001b[39m \u001b[38;5;28;01massert\u001b[39;00m \u001b[38;5;28mself\u001b[39m._host_task \u001b[38;5;129;01mis\u001b[39;00m \u001b[38;5;129;01mnot\u001b[39;00m \u001b[38;5;28;01mNone\u001b[39;00m\n",
      "\u001b[31mRuntimeError\u001b[39m: Attempted to exit cancel scope in a different task than it was entered in",
      "\nDuring handling of the above exception, another exception occurred:\n",
      "\u001b[31mAttributeError\u001b[39m                            Traceback (most recent call last)",
      "\u001b[36mCell\u001b[39m\u001b[36m \u001b[39m\u001b[32mIn[11]\u001b[39m\u001b[32m, line 6\u001b[39m\n\u001b[32m      3\u001b[39m     \u001b[38;5;28;01mawait\u001b[39;00m agent.aprint_response(\u001b[33m\"\u001b[39m\u001b[33mWhat is the license for this project?\u001b[39m\u001b[33m\"\u001b[39m, stream=\u001b[38;5;28;01mTrue\u001b[39;00m)\n\u001b[32m      4\u001b[39m \u001b[38;5;28;01mfinally\u001b[39;00m:\n\u001b[32m      5\u001b[39m     \u001b[38;5;66;03m# Always close the connection when done\u001b[39;00m\n\u001b[32m----> \u001b[39m\u001b[32m6\u001b[39m     \u001b[38;5;28;01mawait\u001b[39;00m mcp_tools.close()\n",
      "\u001b[36mFile \u001b[39m\u001b[32m~/agent-ui/.venv/lib/python3.12/site-packages/agno/tools/mcp.py:266\u001b[39m, in \u001b[36mMCPTools.close\u001b[39m\u001b[34m(self)\u001b[39m\n\u001b[32m    264\u001b[39m \u001b[38;5;250m\u001b[39m\u001b[33;03m\"\"\"Close the MCP connection and clean up resources\"\"\"\u001b[39;00m\n\u001b[32m    265\u001b[39m \u001b[38;5;28;01mif\u001b[39;00m \u001b[38;5;28mself\u001b[39m._session_context \u001b[38;5;129;01mis\u001b[39;00m \u001b[38;5;129;01mnot\u001b[39;00m \u001b[38;5;28;01mNone\u001b[39;00m:\n\u001b[32m--> \u001b[39m\u001b[32m266\u001b[39m     \u001b[38;5;28;01mawait\u001b[39;00m \u001b[38;5;28mself\u001b[39m._session_context.\u001b[34m__aexit__\u001b[39m(\u001b[38;5;28;01mNone\u001b[39;00m, \u001b[38;5;28;01mNone\u001b[39;00m, \u001b[38;5;28;01mNone\u001b[39;00m)\n\u001b[32m    267\u001b[39m     \u001b[38;5;28mself\u001b[39m.session = \u001b[38;5;28;01mNone\u001b[39;00m\n\u001b[32m    268\u001b[39m     \u001b[38;5;28mself\u001b[39m._session_context = \u001b[38;5;28;01mNone\u001b[39;00m\n",
      "\u001b[36mFile \u001b[39m\u001b[32m~/agent-ui/.venv/lib/python3.12/site-packages/mcp/shared/session.py:218\u001b[39m, in \u001b[36mBaseSession.__aexit__\u001b[39m\u001b[34m(self, exc_type, exc_val, exc_tb)\u001b[39m\n\u001b[32m    214\u001b[39m \u001b[38;5;66;03m# Using BaseSession as a context manager should not block on exit (this\u001b[39;00m\n\u001b[32m    215\u001b[39m \u001b[38;5;66;03m# would be very surprising behavior), so make sure to cancel the tasks\u001b[39;00m\n\u001b[32m    216\u001b[39m \u001b[38;5;66;03m# in the task group.\u001b[39;00m\n\u001b[32m    217\u001b[39m \u001b[38;5;28mself\u001b[39m._task_group.cancel_scope.cancel()\n\u001b[32m--> \u001b[39m\u001b[32m218\u001b[39m \u001b[38;5;28;01mreturn\u001b[39;00m \u001b[38;5;28;01mawait\u001b[39;00m \u001b[38;5;28mself\u001b[39m._task_group.\u001b[34m__aexit__\u001b[39m(exc_type, exc_val, exc_tb)\n",
      "\u001b[36mFile \u001b[39m\u001b[32m~/agent-ui/.venv/lib/python3.12/site-packages/anyio/_backends/_asyncio.py:785\u001b[39m, in \u001b[36mTaskGroup.__aexit__\u001b[39m\u001b[34m(***failed resolving arguments***)\u001b[39m\n\u001b[32m    783\u001b[39m     \u001b[38;5;28;01mreturn\u001b[39;00m \u001b[38;5;28mself\u001b[39m.cancel_scope.\u001b[34m__exit__\u001b[39m(exc_type, exc_val, exc_tb)\n\u001b[32m    784\u001b[39m \u001b[38;5;28;01mfinally\u001b[39;00m:\n\u001b[32m--> \u001b[39m\u001b[32m785\u001b[39m     \u001b[38;5;28;01mdel\u001b[39;00m exc_val, exc_tb, \u001b[38;5;28;43mself\u001b[39;49m\u001b[43m.\u001b[49m\u001b[43m_exceptions\u001b[49m\n",
      "\u001b[31mAttributeError\u001b[39m: 'TaskGroup' object has no attribute '_exceptions'"
     ]
    }
   ],
   "source": [
    "\n",
    "try:\n",
    "    agent = Agent(model=Gemini(id=os.environ.get(\"MODEL\",None)), tools=[mcp_tools])\n",
    "    await agent.aprint_response(\"What is the license for this project?\", stream=True)\n",
    "finally:\n",
    "    # Always close the connection when done\n",
    "    await mcp_tools.close()"
   ]
  },
  {
   "cell_type": "markdown",
   "id": "c68b92d7",
   "metadata": {},
   "source": [
    "## HTTP transport"
   ]
  },
  {
   "cell_type": "code",
   "execution_count": 19,
   "id": "6cb470ed",
   "metadata": {},
   "outputs": [],
   "source": [
    "from agno.agent import Agent\n",
    "from agno.models.openai import OpenAIChat\n",
    "from agno.tools.mcp import MCPTools\n",
    "\n",
    "# Initialize and connect to the Streamable HTTP MCP server\n",
    "mcp_tools = MCPTools(url=\"http://localhost:8123/mcp\", transport=\"streamable-http\")\n",
    "# mcp_tools = MCPTools(url=\"https://docs.agno.com/mcp\", transport=\"streamable-http\")\n",
    "await mcp_tools.connect()\n"
   ]
  },
  {
   "cell_type": "code",
   "execution_count": 21,
   "id": "3cac3696",
   "metadata": {},
   "outputs": [
    {
     "data": {
      "application/vnd.jupyter.widget-view+json": {
       "model_id": "2a0e369871d84d2fb976af6fbe039095",
       "version_major": 2,
       "version_minor": 0
      },
      "text/plain": [
       "Output()"
      ]
     },
     "metadata": {},
     "output_type": "display_data"
    },
    {
     "data": {
      "text/html": [
       "<pre style=\"white-space:pre;overflow-x:auto;line-height:normal;font-family:Menlo,'DejaVu Sans Mono',consolas,'Courier New',monospace\"></pre>\n"
      ],
      "text/plain": []
     },
     "metadata": {},
     "output_type": "display_data"
    },
    {
     "ename": "AttributeError",
     "evalue": "'TaskGroup' object has no attribute '_exceptions'",
     "output_type": "error",
     "traceback": [
      "\u001b[31m---------------------------------------------------------------------------\u001b[39m",
      "\u001b[31mAttributeError\u001b[39m                            Traceback (most recent call last)",
      "\u001b[36mFile \u001b[39m\u001b[32m~/agent-ui/.venv/lib/python3.12/site-packages/anyio/_backends/_asyncio.py:767\u001b[39m, in \u001b[36mTaskGroup.__aexit__\u001b[39m\u001b[34m(***failed resolving arguments***)\u001b[39m\n\u001b[32m    766\u001b[39m \u001b[38;5;28mself\u001b[39m._active = \u001b[38;5;28;01mFalse\u001b[39;00m\n\u001b[32m--> \u001b[39m\u001b[32m767\u001b[39m \u001b[38;5;28;01mif\u001b[39;00m \u001b[38;5;28;43mself\u001b[39;49m\u001b[43m.\u001b[49m\u001b[43m_exceptions\u001b[49m:\n\u001b[32m    768\u001b[39m     \u001b[38;5;66;03m# The exception that got us here should already have been\u001b[39;00m\n\u001b[32m    769\u001b[39m     \u001b[38;5;66;03m# added to self._exceptions so it's ok to break exception\u001b[39;00m\n\u001b[32m    770\u001b[39m     \u001b[38;5;66;03m# chaining and avoid adding a \"During handling of above...\"\u001b[39;00m\n\u001b[32m    771\u001b[39m     \u001b[38;5;66;03m# for each nesting level.\u001b[39;00m\n\u001b[32m    772\u001b[39m     \u001b[38;5;28;01mraise\u001b[39;00m BaseExceptionGroup(\n\u001b[32m    773\u001b[39m         \u001b[33m\"\u001b[39m\u001b[33munhandled errors in a TaskGroup\u001b[39m\u001b[33m\"\u001b[39m, \u001b[38;5;28mself\u001b[39m._exceptions\n\u001b[32m    774\u001b[39m     ) \u001b[38;5;28;01mfrom\u001b[39;00m\u001b[38;5;250m \u001b[39m\u001b[38;5;28;01mNone\u001b[39;00m\n",
      "\u001b[31mAttributeError\u001b[39m: 'TaskGroup' object has no attribute '_exceptions'",
      "\nDuring handling of the above exception, another exception occurred:\n",
      "\u001b[31mRuntimeError\u001b[39m                              Traceback (most recent call last)",
      "\u001b[36mFile \u001b[39m\u001b[32m~/agent-ui/.venv/lib/python3.12/site-packages/anyio/_backends/_asyncio.py:778\u001b[39m, in \u001b[36mTaskGroup.__aexit__\u001b[39m\u001b[34m(***failed resolving arguments***)\u001b[39m\n\u001b[32m    777\u001b[39m \u001b[38;5;28;01mexcept\u001b[39;00m \u001b[38;5;167;01mBaseException\u001b[39;00m \u001b[38;5;28;01mas\u001b[39;00m exc:\n\u001b[32m--> \u001b[39m\u001b[32m778\u001b[39m     \u001b[38;5;28;01mif\u001b[39;00m \u001b[38;5;28;43mself\u001b[39;49m\u001b[43m.\u001b[49m\u001b[43mcancel_scope\u001b[49m\u001b[43m.\u001b[49m\u001b[34;43m__exit__\u001b[39;49m\u001b[43m(\u001b[49m\u001b[38;5;28;43mtype\u001b[39;49m\u001b[43m(\u001b[49m\u001b[43mexc\u001b[49m\u001b[43m)\u001b[49m\u001b[43m,\u001b[49m\u001b[43m \u001b[49m\u001b[43mexc\u001b[49m\u001b[43m,\u001b[49m\u001b[43m \u001b[49m\u001b[43mexc\u001b[49m\u001b[43m.\u001b[49m\u001b[43m__traceback__\u001b[49m\u001b[43m)\u001b[49m:\n\u001b[32m    779\u001b[39m         \u001b[38;5;28;01mreturn\u001b[39;00m \u001b[38;5;28;01mTrue\u001b[39;00m\n",
      "\u001b[36mFile \u001b[39m\u001b[32m~/agent-ui/.venv/lib/python3.12/site-packages/anyio/_backends/_asyncio.py:457\u001b[39m, in \u001b[36mCancelScope.__exit__\u001b[39m\u001b[34m(***failed resolving arguments***)\u001b[39m\n\u001b[32m    456\u001b[39m \u001b[38;5;28;01mif\u001b[39;00m current_task() \u001b[38;5;129;01mis\u001b[39;00m \u001b[38;5;129;01mnot\u001b[39;00m \u001b[38;5;28mself\u001b[39m._host_task:\n\u001b[32m--> \u001b[39m\u001b[32m457\u001b[39m     \u001b[38;5;28;01mraise\u001b[39;00m \u001b[38;5;167;01mRuntimeError\u001b[39;00m(\n\u001b[32m    458\u001b[39m         \u001b[33m\"\u001b[39m\u001b[33mAttempted to exit cancel scope in a different task than it was \u001b[39m\u001b[33m\"\u001b[39m\n\u001b[32m    459\u001b[39m         \u001b[33m\"\u001b[39m\u001b[33mentered in\u001b[39m\u001b[33m\"\u001b[39m\n\u001b[32m    460\u001b[39m     )\n\u001b[32m    462\u001b[39m \u001b[38;5;28;01massert\u001b[39;00m \u001b[38;5;28mself\u001b[39m._host_task \u001b[38;5;129;01mis\u001b[39;00m \u001b[38;5;129;01mnot\u001b[39;00m \u001b[38;5;28;01mNone\u001b[39;00m\n",
      "\u001b[31mRuntimeError\u001b[39m: Attempted to exit cancel scope in a different task than it was entered in",
      "\nDuring handling of the above exception, another exception occurred:\n",
      "\u001b[31mAttributeError\u001b[39m                            Traceback (most recent call last)",
      "\u001b[36mCell\u001b[39m\u001b[36m \u001b[39m\u001b[32mIn[21]\u001b[39m\u001b[32m, line 6\u001b[39m\n\u001b[32m      3\u001b[39m     \u001b[38;5;28;01mawait\u001b[39;00m agent.aprint_response(\u001b[33m\"\u001b[39m\u001b[33mWhat can you tell me about MCP support in Agno?\u001b[39m\u001b[33m\"\u001b[39m, stream=\u001b[38;5;28;01mTrue\u001b[39;00m)\n\u001b[32m      4\u001b[39m \u001b[38;5;28;01mfinally\u001b[39;00m:\n\u001b[32m      5\u001b[39m     \u001b[38;5;66;03m# Always close the connection when done\u001b[39;00m\n\u001b[32m----> \u001b[39m\u001b[32m6\u001b[39m     \u001b[38;5;28;01mawait\u001b[39;00m mcp_tools.close()\n",
      "\u001b[36mFile \u001b[39m\u001b[32m~/agent-ui/.venv/lib/python3.12/site-packages/agno/tools/mcp.py:266\u001b[39m, in \u001b[36mMCPTools.close\u001b[39m\u001b[34m(self)\u001b[39m\n\u001b[32m    264\u001b[39m \u001b[38;5;250m\u001b[39m\u001b[33;03m\"\"\"Close the MCP connection and clean up resources\"\"\"\u001b[39;00m\n\u001b[32m    265\u001b[39m \u001b[38;5;28;01mif\u001b[39;00m \u001b[38;5;28mself\u001b[39m._session_context \u001b[38;5;129;01mis\u001b[39;00m \u001b[38;5;129;01mnot\u001b[39;00m \u001b[38;5;28;01mNone\u001b[39;00m:\n\u001b[32m--> \u001b[39m\u001b[32m266\u001b[39m     \u001b[38;5;28;01mawait\u001b[39;00m \u001b[38;5;28mself\u001b[39m._session_context.\u001b[34m__aexit__\u001b[39m(\u001b[38;5;28;01mNone\u001b[39;00m, \u001b[38;5;28;01mNone\u001b[39;00m, \u001b[38;5;28;01mNone\u001b[39;00m)\n\u001b[32m    267\u001b[39m     \u001b[38;5;28mself\u001b[39m.session = \u001b[38;5;28;01mNone\u001b[39;00m\n\u001b[32m    268\u001b[39m     \u001b[38;5;28mself\u001b[39m._session_context = \u001b[38;5;28;01mNone\u001b[39;00m\n",
      "\u001b[36mFile \u001b[39m\u001b[32m~/agent-ui/.venv/lib/python3.12/site-packages/mcp/shared/session.py:218\u001b[39m, in \u001b[36mBaseSession.__aexit__\u001b[39m\u001b[34m(self, exc_type, exc_val, exc_tb)\u001b[39m\n\u001b[32m    214\u001b[39m \u001b[38;5;66;03m# Using BaseSession as a context manager should not block on exit (this\u001b[39;00m\n\u001b[32m    215\u001b[39m \u001b[38;5;66;03m# would be very surprising behavior), so make sure to cancel the tasks\u001b[39;00m\n\u001b[32m    216\u001b[39m \u001b[38;5;66;03m# in the task group.\u001b[39;00m\n\u001b[32m    217\u001b[39m \u001b[38;5;28mself\u001b[39m._task_group.cancel_scope.cancel()\n\u001b[32m--> \u001b[39m\u001b[32m218\u001b[39m \u001b[38;5;28;01mreturn\u001b[39;00m \u001b[38;5;28;01mawait\u001b[39;00m \u001b[38;5;28mself\u001b[39m._task_group.\u001b[34m__aexit__\u001b[39m(exc_type, exc_val, exc_tb)\n",
      "\u001b[36mFile \u001b[39m\u001b[32m~/agent-ui/.venv/lib/python3.12/site-packages/anyio/_backends/_asyncio.py:785\u001b[39m, in \u001b[36mTaskGroup.__aexit__\u001b[39m\u001b[34m(***failed resolving arguments***)\u001b[39m\n\u001b[32m    783\u001b[39m     \u001b[38;5;28;01mreturn\u001b[39;00m \u001b[38;5;28mself\u001b[39m.cancel_scope.\u001b[34m__exit__\u001b[39m(exc_type, exc_val, exc_tb)\n\u001b[32m    784\u001b[39m \u001b[38;5;28;01mfinally\u001b[39;00m:\n\u001b[32m--> \u001b[39m\u001b[32m785\u001b[39m     \u001b[38;5;28;01mdel\u001b[39;00m exc_val, exc_tb, \u001b[38;5;28;43mself\u001b[39;49m\u001b[43m.\u001b[49m\u001b[43m_exceptions\u001b[49m\n",
      "\u001b[31mAttributeError\u001b[39m: 'TaskGroup' object has no attribute '_exceptions'"
     ]
    }
   ],
   "source": [
    "\n",
    "try:\n",
    "    agent = Agent(model=Gemini(id=os.environ.get(\"MODEL\",None)), tools=[mcp_tools])\n",
    "    await agent.aprint_response(\"What can you tell me about MCP support in Agno?\", stream=True)\n",
    "finally:\n",
    "    # Always close the connection when done\n",
    "    await mcp_tools.close()"
   ]
  },
  {
   "cell_type": "code",
   "execution_count": null,
   "id": "3c58138e",
   "metadata": {},
   "outputs": [],
   "source": []
  }
 ],
 "metadata": {
  "kernelspec": {
   "display_name": "agent-ui",
   "language": "python",
   "name": "python3"
  },
  "language_info": {
   "codemirror_mode": {
    "name": "ipython",
    "version": 3
   },
   "file_extension": ".py",
   "mimetype": "text/x-python",
   "name": "python",
   "nbconvert_exporter": "python",
   "pygments_lexer": "ipython3",
   "version": "3.12.11"
  }
 },
 "nbformat": 4,
 "nbformat_minor": 5
}
